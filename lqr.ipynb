{
 "cells": [
  {
   "cell_type": "code",
   "execution_count": 1,
   "metadata": {},
   "outputs": [],
   "source": [
    "import torch\n",
    "from torch import nn"
   ]
  },
  {
   "cell_type": "code",
   "execution_count": 2,
   "metadata": {},
   "outputs": [],
   "source": [
    "class LTVDynamicsModel(nn.Module):  # Linear Time-Varying Dynamics Model\n",
    "    def __init__(self, layers=[64, 64]):\n",
    "        super(LTVDynamicsModel, self).__init__()\n",
    "        layers = [nn.Linear(3, layers[0]), nn.ReLU()] + [\n",
    "            nn.Linear(layers[i], layers[i + 1]) for i in range(len(layers) - 1)\n",
    "        ] + [nn.Linear(layers[-1], 3)]\n",
    "        self.time_varying_F = nn.Sequential(*layers)\n",
    "\n",
    "    def forward(self, xu):\n",
    "        \"\"\"\n",
    "        xu: [roll_lataccel, v_ego, a_ego, lataccel, steer_command]\n",
    "        \"\"\"\n",
    "        x = self.time_varying_F(xu[:, :3]) # Ft(roll_lataccel, v_ego, a_ego)\n",
    "        Ft = x[:, 0:2].reshape(-1, 1, 2)\n",
    "        ft = x[:, 2:].reshape(-1, 1, 1)\n",
    "\n",
    "        xt = xu[:, 3:].reshape(-1, 2, 1) # [x, u]\n",
    "        xt1 = (torch.bmm(Ft, xt) + ft).reshape(-1) # [x_t+1]\n",
    "        return xt1\n",
    "\n",
    "model = LTVDynamicsModel([128, 128, 128, 128])"
   ]
  },
  {
   "cell_type": "code",
   "execution_count": 4,
   "metadata": {},
   "outputs": [
    {
     "data": {
      "text/plain": [
       "LTVDynamicsModel(\n",
       "  (time_varying_F): Sequential(\n",
       "    (0): Linear(in_features=3, out_features=128, bias=True)\n",
       "    (1): ReLU()\n",
       "    (2): Linear(in_features=128, out_features=128, bias=True)\n",
       "    (3): Linear(in_features=128, out_features=128, bias=True)\n",
       "    (4): Linear(in_features=128, out_features=128, bias=True)\n",
       "    (5): Linear(in_features=128, out_features=3, bias=True)\n",
       "  )\n",
       ")"
      ]
     },
     "execution_count": 4,
     "metadata": {},
     "output_type": "execute_result"
    }
   ],
   "source": [
    "model.load_state_dict(torch.load('best_model_train.pth', weights_only=True))\n",
    "model.cpu()\n",
    "model.eval()"
   ]
  },
  {
   "cell_type": "code",
   "execution_count": 6,
   "metadata": {},
   "outputs": [],
   "source": [
    "mean, std = torch.load('mean_std.pt', weights_only=True)"
   ]
  },
  {
   "cell_type": "code",
   "execution_count": null,
   "metadata": {},
   "outputs": [],
   "source": []
  }
 ],
 "metadata": {
  "kernelspec": {
   "display_name": "base",
   "language": "python",
   "name": "python3"
  },
  "language_info": {
   "codemirror_mode": {
    "name": "ipython",
    "version": 3
   },
   "file_extension": ".py",
   "mimetype": "text/x-python",
   "name": "python",
   "nbconvert_exporter": "python",
   "pygments_lexer": "ipython3",
   "version": "3.10.14"
  }
 },
 "nbformat": 4,
 "nbformat_minor": 2
}
