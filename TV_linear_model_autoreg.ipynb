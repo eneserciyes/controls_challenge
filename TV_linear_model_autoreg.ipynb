{
 "cells": [
  {
   "cell_type": "code",
   "execution_count": 1,
   "metadata": {},
   "outputs": [],
   "source": [
    "import numpy as np\n",
    "import pandas as pd\n",
    "import torch\n",
    "from torch import nn\n",
    "\n",
    "import matplotlib.pyplot as plt\n",
    "ACC_G = 9.81"
   ]
  },
  {
   "cell_type": "code",
   "execution_count": 2,
   "metadata": {},
   "outputs": [],
   "source": [
    "def get_data(data_path: str) -> pd.DataFrame:\n",
    "    df = pd.read_csv(data_path)\n",
    "    processed_df = pd.DataFrame(\n",
    "        {\n",
    "            \"roll_lataccel\": np.sin(df[\"roll\"].values) * ACC_G,\n",
    "            \"v_ego\": df[\"vEgo\"].values,\n",
    "            \"a_ego\": df[\"aEgo\"].values,\n",
    "            \"target_lataccel\": df[\"targetLateralAcceleration\"].values,\n",
    "            \"steer_command\": -df[\n",
    "                \"steerCommand\"\n",
    "            ].values,  # steer commands are logged with left-positive convention but this simulator uses right-positive\n",
    "        }\n",
    "    )\n",
    "    return processed_df"
   ]
  },
  {
   "cell_type": "code",
   "execution_count": 3,
   "metadata": {},
   "outputs": [],
   "source": [
    "train_data = []\n",
    "for i in range(19000):\n",
    "  pd_frame = get_data(f'data/{i:05d}.csv')\n",
    "  td = pd_frame[:100].values\n",
    "  train_data.append(td)\n",
    "\n",
    "train_data = np.array(train_data)\n",
    "\n"
   ]
  },
  {
   "cell_type": "code",
   "execution_count": 4,
   "metadata": {},
   "outputs": [],
   "source": [
    "val_data = []\n",
    "for i in range(19000, 20000):\n",
    "  pd_frame = get_data(f'data/{i:05d}.csv')\n",
    "  td = pd_frame[:100].values\n",
    "  val_data.append(td)\n",
    "\n",
    "val_data = np.array(val_data)"
   ]
  },
  {
   "cell_type": "code",
   "execution_count": 5,
   "metadata": {},
   "outputs": [],
   "source": [
    "test_df = get_data('data/00000.csv')[:100]"
   ]
  },
  {
   "cell_type": "code",
   "execution_count": null,
   "metadata": {},
   "outputs": [],
   "source": []
  }
 ],
 "metadata": {
  "kernelspec": {
   "display_name": "base",
   "language": "python",
   "name": "python3"
  },
  "language_info": {
   "codemirror_mode": {
    "name": "ipython",
    "version": 3
   },
   "file_extension": ".py",
   "mimetype": "text/x-python",
   "name": "python",
   "nbconvert_exporter": "python",
   "pygments_lexer": "ipython3",
   "version": "3.10.14"
  }
 },
 "nbformat": 4,
 "nbformat_minor": 2
}
