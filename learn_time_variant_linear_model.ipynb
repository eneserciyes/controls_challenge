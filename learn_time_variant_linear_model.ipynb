{
 "cells": [
  {
   "cell_type": "code",
   "execution_count": 1,
   "metadata": {},
   "outputs": [],
   "source": [
    "import numpy as np\n",
    "import pandas as pd\n",
    "import torch\n",
    "from torch import nn\n",
    "\n",
    "import matplotlib.pyplot as plt\n",
    "ACC_G = 9.81"
   ]
  },
  {
   "cell_type": "code",
   "execution_count": 2,
   "metadata": {},
   "outputs": [],
   "source": [
    "def get_data(data_path: str) -> pd.DataFrame:\n",
    "    df = pd.read_csv(data_path)\n",
    "    processed_df = pd.DataFrame(\n",
    "        {\n",
    "            \"roll_lataccel\": np.sin(df[\"roll\"].values) * ACC_G,\n",
    "            \"v_ego\": df[\"vEgo\"].values,\n",
    "            \"a_ego\": df[\"aEgo\"].values,\n",
    "            \"target_lataccel\": df[\"targetLateralAcceleration\"].values,\n",
    "            \"steer_command\": -df[\n",
    "                \"steerCommand\"\n",
    "            ].values,  # steer commands are logged with left-positive convention but this simulator uses right-positive\n",
    "        }\n",
    "    )\n",
    "    return processed_df"
   ]
  },
  {
   "cell_type": "code",
   "execution_count": 3,
   "metadata": {},
   "outputs": [],
   "source": [
    "train_data = []\n",
    "for i in range(19000):\n",
    "  pd_frame = get_data(f'data/{i:05d}.csv')\n",
    "  td = pd_frame[:100].values\n",
    "  train_data.append(td)\n",
    "\n",
    "train_data = np.array(train_data)\n"
   ]
  },
  {
   "cell_type": "code",
   "execution_count": 4,
   "metadata": {},
   "outputs": [],
   "source": [
    "val_data = []\n",
    "for i in range(19000, 20000):\n",
    "  pd_frame = get_data(f'data/{i:05d}.csv')\n",
    "  td = pd_frame[:100].values\n",
    "  val_data.append(td)\n",
    "\n",
    "val_data = np.array(val_data)"
   ]
  },
  {
   "cell_type": "code",
   "execution_count": 5,
   "metadata": {},
   "outputs": [],
   "source": [
    "data_size = 1 # train_data.shape[0]\n",
    "\n",
    "Xtr = torch.tensor(train_data[:data_size], dtype=torch.float32)# .reshape(-1, 5)\n",
    "Xval = torch.tensor(val_data, dtype=torch.float32)# .reshape(-1, 5)\n",
    "\n",
    "mean, std = Xtr.mean(dim=(0,1)), Xtr.std(dim=(0,1))\n",
    "\n",
    "Xtr = (Xtr - mean) / std\n",
    "Xval = (Xval - mean) / std"
   ]
  },
  {
   "cell_type": "code",
   "execution_count": 6,
   "metadata": {},
   "outputs": [],
   "source": [
    "Ytr = (Xtr[:, 1:, 3:4] - Xtr[:, :-1, 3:4]) # delta lateral acceleration\n",
    "Yval = (Xval[:, 1:, 3:4] - Xval[:, :-1, 3:4])"
   ]
  },
  {
   "cell_type": "code",
   "execution_count": 7,
   "metadata": {},
   "outputs": [],
   "source": [
    "Xtr = Xtr[:, :-1].reshape(-1, 5)\n",
    "Xval = Xval[:, :-1].reshape(-1, 5)\n",
    "\n",
    "Ytr = Ytr.reshape(-1)\n",
    "Yval = Yval.reshape(-1)\n"
   ]
  },
  {
   "cell_type": "code",
   "execution_count": 8,
   "metadata": {},
   "outputs": [
    {
     "data": {
      "text/plain": [
       "(tensor([ 0.7905,  2.7206, -0.0888,  0.9089,  1.1420]), tensor(0.0964))"
      ]
     },
     "execution_count": 8,
     "metadata": {},
     "output_type": "execute_result"
    }
   ],
   "source": [
    "Xtr[0], Ytr[0]"
   ]
  },
  {
   "cell_type": "code",
   "execution_count": 9,
   "metadata": {},
   "outputs": [
    {
     "data": {
      "text/plain": [
       "tensor([ 0.7693,  2.5472, -0.4976,  1.0053,  1.1804])"
      ]
     },
     "execution_count": 9,
     "metadata": {},
     "output_type": "execute_result"
    }
   ],
   "source": [
    "Xtr[1]"
   ]
  },
  {
   "cell_type": "code",
   "execution_count": 10,
   "metadata": {},
   "outputs": [],
   "source": [
    "def get_batch(Xtr, Ytr, batch_size: int):\n",
    "    idx = np.random.choice(Xtr.shape[0], batch_size)\n",
    "    return Xtr[idx], Ytr[idx]"
   ]
  },
  {
   "cell_type": "code",
   "execution_count": 11,
   "metadata": {},
   "outputs": [],
   "source": [
    "class LTVDynamicsModel(nn.Module):  # Linear Time-Varying Dynamics Model\n",
    "    def __init__(self, layers=[64, 64]):\n",
    "        super(LTVDynamicsModel, self).__init__()\n",
    "        layers = [nn.Linear(3, layers[0]), nn.ReLU()] + [\n",
    "            nn.Linear(layers[i], layers[i + 1]) for i in range(len(layers) - 1)\n",
    "        ] + [nn.Linear(layers[-1], 3)]\n",
    "        self.time_varying_F = nn.Sequential(*layers)\n",
    "\n",
    "    def forward(self, xu):\n",
    "        \"\"\"\n",
    "        xu: [roll_lataccel, v_ego, a_ego, lataccel, steer_command]\n",
    "        \"\"\"\n",
    "        x = self.time_varying_F(xu[:, :3]) # Ft(roll_lataccel, v_ego, a_ego)\n",
    "        Ft = x[:, 0:2].reshape(-1, 1, 2)\n",
    "        ft = x[:, 2:].reshape(-1, 1, 1)\n",
    "\n",
    "        xt = xu[:, 3:].reshape(-1, 2, 1) # [x, u]\n",
    "        xt1 = (torch.bmm(Ft, xt) + ft).reshape(-1) # [x_t+1]\n",
    "        return xt1\n",
    "\n",
    "model = LTVDynamicsModel([128, 128, 128, 128])"
   ]
  },
  {
   "cell_type": "code",
   "execution_count": 12,
   "metadata": {},
   "outputs": [],
   "source": [
    "model.train()\n",
    "model.cuda()\n",
    "\n",
    "criterion = nn.MSELoss()\n",
    "optimizer = torch.optim.Adam(model.parameters(), lr=0.001)\n"
   ]
  },
  {
   "cell_type": "code",
   "execution_count": 13,
   "metadata": {},
   "outputs": [],
   "source": [
    "best_val_loss = float('inf')\n",
    "best_train_loss = float('inf')"
   ]
  },
  {
   "cell_type": "code",
   "execution_count": 14,
   "metadata": {},
   "outputs": [],
   "source": [
    "optimizer.lr = 0.0001\n",
    "num_steps = 5000\n",
    "batch_size = 1024"
   ]
  },
  {
   "cell_type": "code",
   "execution_count": 15,
   "metadata": {},
   "outputs": [
    {
     "name": "stdout",
     "output_type": "stream",
     "text": [
      "Step 0: Validation Loss 48.29338455200195\n",
      "Step 0: Train Loss 0.0119024608284235 | Best Val Loss 48.29338455200195\n",
      "Step 100: Train Loss 0.00020024648983962834 | Best Val Loss 48.29338455200195\n",
      "Step 200: Train Loss 0.00017057088552974164 | Best Val Loss 48.29338455200195\n",
      "Step 300: Train Loss 3.648172423709184e-05 | Best Val Loss 48.29338455200195\n",
      "Step 400: Train Loss 2.1970588932163082e-05 | Best Val Loss 48.29338455200195\n",
      "Step 500: Train Loss 9.540624887449667e-06 | Best Val Loss 48.29338455200195\n",
      "Step 600: Train Loss 2.2681262635160238e-05 | Best Val Loss 48.29338455200195\n",
      "Step 700: Train Loss 4.878702020505443e-05 | Best Val Loss 48.29338455200195\n",
      "Step 800: Train Loss 6.309580930974334e-05 | Best Val Loss 48.29338455200195\n",
      "Step 900: Train Loss 2.5568535420461558e-05 | Best Val Loss 48.29338455200195\n",
      "Step 1000: Validation Loss 2296.940673828125\n",
      "Step 1000: Train Loss 5.9132898968528025e-06 | Best Val Loss 48.29338455200195\n",
      "Step 1100: Train Loss 1.018374132399913e-05 | Best Val Loss 48.29338455200195\n",
      "Step 1200: Train Loss 5.080084520159289e-05 | Best Val Loss 48.29338455200195\n",
      "Step 1300: Train Loss 0.0002544581366237253 | Best Val Loss 48.29338455200195\n",
      "Step 1400: Train Loss 8.222940959967673e-05 | Best Val Loss 48.29338455200195\n",
      "Step 1500: Train Loss 5.459310614241986e-06 | Best Val Loss 48.29338455200195\n",
      "Step 1600: Train Loss 7.453564649040345e-06 | Best Val Loss 48.29338455200195\n",
      "Step 1700: Train Loss 5.007174695492722e-05 | Best Val Loss 48.29338455200195\n",
      "Step 1800: Train Loss 4.4059925130568445e-06 | Best Val Loss 48.29338455200195\n",
      "Step 1900: Train Loss 9.708114703244064e-06 | Best Val Loss 48.29338455200195\n",
      "Step 2000: Validation Loss 2962.13134765625\n",
      "Step 2000: Train Loss 3.354227601448656e-06 | Best Val Loss 48.29338455200195\n",
      "Step 2100: Train Loss 8.459532182314433e-06 | Best Val Loss 48.29338455200195\n",
      "Step 2200: Train Loss 6.084971573727671e-06 | Best Val Loss 48.29338455200195\n",
      "Step 2300: Train Loss 1.0804092198668513e-05 | Best Val Loss 48.29338455200195\n",
      "Step 2400: Train Loss 8.268505553132854e-06 | Best Val Loss 48.29338455200195\n",
      "Step 2500: Train Loss 3.8163954741321504e-05 | Best Val Loss 48.29338455200195\n",
      "Step 2600: Train Loss 2.543419941503089e-05 | Best Val Loss 48.29338455200195\n",
      "Step 2700: Train Loss 4.0116046875482425e-06 | Best Val Loss 48.29338455200195\n",
      "Step 2800: Train Loss 1.874935333034955e-05 | Best Val Loss 48.29338455200195\n",
      "Step 2900: Train Loss 2.1646023014909588e-05 | Best Val Loss 48.29338455200195\n",
      "Step 3000: Validation Loss 5300.2490234375\n",
      "Step 3000: Train Loss 4.424884537002072e-06 | Best Val Loss 48.29338455200195\n",
      "Step 3100: Train Loss 5.399432666308712e-06 | Best Val Loss 48.29338455200195\n",
      "Step 3200: Train Loss 0.00010427445522509515 | Best Val Loss 48.29338455200195\n",
      "Step 3300: Train Loss 2.0657627828768454e-05 | Best Val Loss 48.29338455200195\n",
      "Step 3400: Train Loss 3.5729012779484037e-06 | Best Val Loss 48.29338455200195\n",
      "Step 3500: Train Loss 4.341834483057028e-06 | Best Val Loss 48.29338455200195\n",
      "Step 3600: Train Loss 1.816128133214079e-05 | Best Val Loss 48.29338455200195\n",
      "Step 3700: Train Loss 1.9322566004120745e-05 | Best Val Loss 48.29338455200195\n",
      "Step 3800: Train Loss 1.0867633136513177e-05 | Best Val Loss 48.29338455200195\n",
      "Step 3900: Train Loss 1.8229888155474328e-05 | Best Val Loss 48.29338455200195\n",
      "Step 4000: Validation Loss 8301.6806640625\n",
      "Step 4000: Train Loss 4.2179581214440987e-05 | Best Val Loss 48.29338455200195\n",
      "Step 4100: Train Loss 1.6964244423434138e-05 | Best Val Loss 48.29338455200195\n",
      "Step 4200: Train Loss 3.3848004932224285e-06 | Best Val Loss 48.29338455200195\n",
      "Step 4300: Train Loss 8.97843528946396e-06 | Best Val Loss 48.29338455200195\n",
      "Step 4400: Train Loss 2.449352905387059e-05 | Best Val Loss 48.29338455200195\n",
      "Step 4500: Train Loss 1.4721588286192855e-06 | Best Val Loss 48.29338455200195\n",
      "Step 4600: Train Loss 1.6440048057120293e-05 | Best Val Loss 48.29338455200195\n",
      "Step 4700: Train Loss 8.307892130687833e-06 | Best Val Loss 48.29338455200195\n",
      "Step 4800: Train Loss 4.164889105595648e-05 | Best Val Loss 48.29338455200195\n",
      "Step 4900: Train Loss 1.8017374259216012e-06 | Best Val Loss 48.29338455200195\n"
     ]
    }
   ],
   "source": [
    "\n",
    "for i in range(num_steps):\n",
    "    optimizer.zero_grad()\n",
    "    Xb, Yb = get_batch(Xtr, Ytr, batch_size)\n",
    "\n",
    "    Xb = Xb.to('cuda')\n",
    "    Yb = Yb.to('cuda')\n",
    "\n",
    "    loss = criterion(model(Xb), Yb)\n",
    "\n",
    "    if i % 1000 == 0:\n",
    "        val_loss = criterion(model(Xval.cuda()), Yval.cuda())\n",
    "        if val_loss < best_val_loss:\n",
    "            best_val_loss = val_loss\n",
    "            torch.save(model.state_dict(), 'best_model_val.pth')\n",
    "\n",
    "        print(f\"Step {i}: Validation Loss {val_loss.item()}\")\n",
    "\n",
    "    if i % 100 == 0:\n",
    "        print(f'Step {i}: Train Loss {loss.item()} | Best Val Loss {best_val_loss.item()}')\n",
    "        if loss < best_train_loss:\n",
    "            best_train_loss = loss\n",
    "            torch.save(model.state_dict(), 'best_model_train.pth')\n",
    "\n",
    "    loss.backward()\n",
    "    optimizer.step()\n"
   ]
  },
  {
   "cell_type": "code",
   "execution_count": 16,
   "metadata": {},
   "outputs": [
    {
     "data": {
      "text/plain": [
       "LTVDynamicsModel(\n",
       "  (time_varying_F): Sequential(\n",
       "    (0): Linear(in_features=3, out_features=128, bias=True)\n",
       "    (1): ReLU()\n",
       "    (2): Linear(in_features=128, out_features=128, bias=True)\n",
       "    (3): Linear(in_features=128, out_features=128, bias=True)\n",
       "    (4): Linear(in_features=128, out_features=128, bias=True)\n",
       "    (5): Linear(in_features=128, out_features=3, bias=True)\n",
       "  )\n",
       ")"
      ]
     },
     "execution_count": 16,
     "metadata": {},
     "output_type": "execute_result"
    }
   ],
   "source": [
    "model.load_state_dict(torch.load('best_model_train.pth', weights_only=True))\n",
    "model.cpu()\n",
    "model.eval()"
   ]
  },
  {
   "cell_type": "code",
   "execution_count": 17,
   "metadata": {},
   "outputs": [],
   "source": [
    "test_df = get_data('data/00000.csv')[:100]\n",
    "test_data = test_df.values"
   ]
  },
  {
   "cell_type": "code",
   "execution_count": 21,
   "metadata": {},
   "outputs": [],
   "source": [
    "errors= []\n",
    "\n",
    "alpha = 0.0\n",
    "x0 = torch.from_numpy(test_data[0, None]).float()\n",
    "x0 = (x0 - mean) / std\n",
    "dx = model(x0).detach()\n",
    "# x1 = x1 * std[3] + mean[3]\n",
    "rollout = [x0[0,3] * std[3] + mean[3], (x0[0,3] + dx[0]) * std[3] + mean[3]] # lateral accelerations [x0[0,3], x1[0]] x0[0, 3] * std[3] + mean[3]\n",
    "for t in range(1, test_data.shape[0]-1):\n",
    "    xt = torch.from_numpy(test_data[t, None]).float()\n",
    "    xt[:, 3] = (1-alpha) * rollout[-1] + alpha * rollout[-2]\n",
    "    xt = (xt - mean) / std\n",
    "    dx = model(xt).detach()\n",
    "    # xt1 = xt1 * std[3] + mean[3]\n",
    "    xt1 = xt[0, 3] + dx[0]\n",
    "    rollout.append(xt1* std[3] + mean[3])"
   ]
  },
  {
   "cell_type": "code",
   "execution_count": 22,
   "metadata": {},
   "outputs": [
    {
     "data": {
      "text/plain": [
       "[tensor(1.0039),\n",
       " tensor(1.0495),\n",
       " tensor(1.0564),\n",
       " tensor(1.0514),\n",
       " tensor(1.0594),\n",
       " tensor(1.0959),\n",
       " tensor(1.0976),\n",
       " tensor(1.0989),\n",
       " tensor(1.1036),\n",
       " tensor(1.1043),\n",
       " tensor(1.1030),\n",
       " tensor(1.1025),\n",
       " tensor(1.1040),\n",
       " tensor(1.1095),\n",
       " tensor(1.1118),\n",
       " tensor(1.1096),\n",
       " tensor(1.0997),\n",
       " tensor(1.0910),\n",
       " tensor(1.0620),\n",
       " tensor(1.0678),\n",
       " tensor(1.0735),\n",
       " tensor(1.0526),\n",
       " tensor(1.0241),\n",
       " tensor(0.7796),\n",
       " tensor(0.7698),\n",
       " tensor(0.7605),\n",
       " tensor(0.7675),\n",
       " tensor(0.7703),\n",
       " tensor(0.7734),\n",
       " tensor(0.7748),\n",
       " tensor(0.7695),\n",
       " tensor(0.7870),\n",
       " tensor(0.8034),\n",
       " tensor(0.8077),\n",
       " tensor(0.8021),\n",
       " tensor(0.8092),\n",
       " tensor(0.8312),\n",
       " tensor(0.8376),\n",
       " tensor(0.8784),\n",
       " tensor(0.9347),\n",
       " tensor(0.9832),\n",
       " tensor(0.9823),\n",
       " tensor(0.9807),\n",
       " tensor(0.9766),\n",
       " tensor(0.9697),\n",
       " tensor(0.9595),\n",
       " tensor(0.9568),\n",
       " tensor(0.9548),\n",
       " tensor(0.9592),\n",
       " tensor(0.9404),\n",
       " tensor(0.9364),\n",
       " tensor(0.9315),\n",
       " tensor(0.9111),\n",
       " tensor(0.8744),\n",
       " tensor(0.8436),\n",
       " tensor(0.8254),\n",
       " tensor(0.7471),\n",
       " tensor(0.7016),\n",
       " tensor(0.6764),\n",
       " tensor(0.6512),\n",
       " tensor(0.5701),\n",
       " tensor(0.5268),\n",
       " tensor(0.4113),\n",
       " tensor(0.3397),\n",
       " tensor(0.3102),\n",
       " tensor(0.1893),\n",
       " tensor(0.1716),\n",
       " tensor(0.0852),\n",
       " tensor(0.0704),\n",
       " tensor(0.0566),\n",
       " tensor(0.0238),\n",
       " tensor(0.0037),\n",
       " tensor(-0.0021),\n",
       " tensor(-0.0367),\n",
       " tensor(-0.0835),\n",
       " tensor(-0.0808),\n",
       " tensor(-0.0768),\n",
       " tensor(-0.0911),\n",
       " tensor(-0.1182),\n",
       " tensor(-0.1270),\n",
       " tensor(-0.1199),\n",
       " tensor(-0.1179),\n",
       " tensor(-0.1076),\n",
       " tensor(-0.1111),\n",
       " tensor(-0.0876),\n",
       " tensor(-0.0663),\n",
       " tensor(-0.0626),\n",
       " tensor(-0.0591),\n",
       " tensor(-0.0578),\n",
       " tensor(-0.0568),\n",
       " tensor(-0.0530),\n",
       " tensor(-0.0531),\n",
       " tensor(-0.0533),\n",
       " tensor(-0.0459),\n",
       " tensor(-0.0438),\n",
       " tensor(-0.0370),\n",
       " tensor(-0.0306),\n",
       " tensor(-0.0249),\n",
       " tensor(-0.0195),\n",
       " tensor(-0.0174)]"
      ]
     },
     "execution_count": 22,
     "metadata": {},
     "output_type": "execute_result"
    }
   ],
   "source": [
    "rollout"
   ]
  },
  {
   "cell_type": "code",
   "execution_count": 23,
   "metadata": {},
   "outputs": [
    {
     "data": {
      "image/png": "[encoded data removed]",
      "text/plain": [
       "<Figure size 1000x500 with 1 Axes>"
      ]
     },
     "metadata": {},
     "output_type": "display_data"
    }
   ],
   "source": [
    "def plot_rollout(rollout, test_data):\n",
    "  fig, ax = plt.subplots(figsize=(10, 5))\n",
    "  ax.plot(test_data[:, 3], label=\"GT Lat Acc\", alpha=0.5)\n",
    "  ax.plot([latacc for latacc in rollout], label=\"Model\", alpha=0.5)\n",
    "  ax.legend()\n",
    "  ax.set_xlabel(\"Step\")\n",
    "  ax.set_ylabel(\"Lateral Acceleration\")\n",
    "  ax.set_title(\"Rollout\")\n",
    "  plt.show()\n",
    "\n",
    "plot_rollout(rollout, test_data)\n"
   ]
  }
 ],
 "metadata": {
  "kernelspec": {
   "display_name": "base",
   "language": "python",
   "name": "python3"
  },
  "language_info": {
   "codemirror_mode": {
    "name": "ipython",
    "version": 3
   },
   "file_extension": ".py",
   "mimetype": "text/x-python",
   "name": "python",
   "nbconvert_exporter": "python",
   "pygments_lexer": "ipython3",
   "version": "3.10.14"
  }
 },
 "nbformat": 4,
 "nbformat_minor": 2
}
