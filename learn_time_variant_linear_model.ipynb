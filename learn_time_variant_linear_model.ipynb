{
 "cells": [
  {
   "cell_type": "code",
   "execution_count": 1,
   "metadata": {},
   "outputs": [],
   "source": [
    "import numpy as np\n",
    "import pandas as pd\n",
    "import torch\n",
    "from torch import nn\n",
    "\n",
    "import matplotlib.pyplot as plt\n",
    "ACC_G = 9.81"
   ]
  },
  {
   "cell_type": "code",
   "execution_count": 2,
   "metadata": {},
   "outputs": [],
   "source": [
    "def get_data(data_path: str) -> pd.DataFrame:\n",
    "    df = pd.read_csv(data_path)\n",
    "    processed_df = pd.DataFrame(\n",
    "        {\n",
    "            \"roll_lataccel\": np.sin(df[\"roll\"].values) * ACC_G,\n",
    "            \"v_ego\": df[\"vEgo\"].values,\n",
    "            \"a_ego\": df[\"aEgo\"].values,\n",
    "            \"target_lataccel\": df[\"targetLateralAcceleration\"].values,\n",
    "            \"steer_command\": -df[\n",
    "                \"steerCommand\"\n",
    "            ].values,  # steer commands are logged with left-positive convention but this simulator uses right-positive\n",
    "        }\n",
    "    )\n",
    "    return processed_df"
   ]
  },
  {
   "cell_type": "code",
   "execution_count": 3,
   "metadata": {},
   "outputs": [],
   "source": [
    "train_data = []\n",
    "for i in range(19000):\n",
    "  pd_frame = get_data(f'data/{i:05d}.csv')\n",
    "  td = pd_frame[:100].values\n",
    "  train_data.append(td)\n",
    "\n",
    "train_data = np.array(train_data)\n"
   ]
  },
  {
   "cell_type": "code",
   "execution_count": 4,
   "metadata": {},
   "outputs": [],
   "source": [
    "val_data = []\n",
    "for i in range(19000, 20000):\n",
    "  pd_frame = get_data(f'data/{i:05d}.csv')\n",
    "  td = pd_frame[:100].values\n",
    "  val_data.append(td)\n",
    "\n",
    "val_data = np.array(val_data)"
   ]
  },
  {
   "cell_type": "code",
   "execution_count": 43,
   "metadata": {},
   "outputs": [],
   "source": [
    "data_size = 10 # train_data.shape[0]\n",
    "\n",
    "Xtr = torch.tensor(train_data[:data_size, :-1], dtype=torch.float32)# .reshape(-1, 5)\n",
    "Ytr = torch.tensor(train_data[:data_size, 1:, 3:4], dtype=torch.float32)# .reshape(-1)\n",
    "\n",
    "Xval = torch.tensor(val_data[:, :-1], dtype=torch.float32).reshape(-1, 5)\n",
    "Yval = torch.tensor(val_data[:, 1:, 3:4], dtype=torch.float32).reshape(-1)\n",
    "\n"
   ]
  },
  {
   "cell_type": "code",
   "execution_count": 44,
   "metadata": {},
   "outputs": [],
   "source": [
    "mean, std = Xtr.mean(dim=0), Xtr.std(dim=0)"
   ]
  },
  {
   "cell_type": "code",
   "execution_count": 45,
   "metadata": {},
   "outputs": [],
   "source": [
    "# preprocessing\n",
    "Xtr = (Xtr - mean) / std\n",
    "Xval = (Xval - mean) / std\n",
    "\n",
    "Ytr = (Ytr - mean[3:4]) / std[3:4]\n",
    "Yval = (Yval - mean[3:4]) / std[3:4]"
   ]
  },
  {
   "cell_type": "code",
   "execution_count": 46,
   "metadata": {},
   "outputs": [
    {
     "data": {
      "text/plain": [
       "(tensor([ 0.8439,  1.5069, -0.4775,  1.7904,  1.3905]), tensor(1.8805))"
      ]
     },
     "execution_count": 46,
     "metadata": {},
     "output_type": "execute_result"
    }
   ],
   "source": [
    "Xtr[0], Ytr[0]"
   ]
  },
  {
   "cell_type": "code",
   "execution_count": 47,
   "metadata": {},
   "outputs": [],
   "source": [
    "def get_batch(Xtr, Ytr, batch_size: int):\n",
    "    idx = np.random.choice(Xtr.shape[0], batch_size)\n",
    "    return Xtr[idx], Ytr[idx]"
   ]
  },
  {
   "cell_type": "code",
   "execution_count": 48,
   "metadata": {},
   "outputs": [],
   "source": [
    "class LTVDynamicsModel(nn.Module):  # Linear Time-Varying Dynamics Model\n",
    "    def __init__(self, layers=[64, 64]):\n",
    "        super(LTVDynamicsModel, self).__init__()\n",
    "        layers = [nn.Linear(3, layers[0]), nn.ReLU()] + [\n",
    "            nn.Linear(layers[i], layers[i + 1]) for i in range(len(layers) - 1)\n",
    "        ] + [nn.Linear(layers[-1], 3)]\n",
    "        self.time_varying_F = nn.Sequential(*layers)\n",
    "\n",
    "    def forward(self, xu):\n",
    "        \"\"\"\n",
    "        xu: [roll_lataccel, v_ego, a_ego, lataccel, steer_command]\n",
    "        \"\"\"\n",
    "        x = self.time_varying_F(xu[:, :3]) # Ft(roll_lataccel, v_ego, a_ego)\n",
    "        Ft = x[:, 0:2].reshape(-1, 1, 2)\n",
    "        ft = x[:, 2:].reshape(-1, 1, 1)\n",
    "\n",
    "        xt = xu[:, 3:].reshape(-1, 2, 1) # [x, u]\n",
    "        xt1 = (torch.bmm(Ft, xt) + ft).reshape(-1) # [x_t+1]\n",
    "        return xt1\n",
    "\n",
    "model = LTVDynamicsModel([128, 128, 128, 128])"
   ]
  },
  {
   "cell_type": "code",
   "execution_count": 49,
   "metadata": {},
   "outputs": [],
   "source": [
    "model.train()\n",
    "model.cuda()\n",
    "\n",
    "criterion = nn.MSELoss()\n",
    "optimizer = torch.optim.Adam(model.parameters(), lr=0.001)\n"
   ]
  },
  {
   "cell_type": "code",
   "execution_count": 50,
   "metadata": {},
   "outputs": [],
   "source": [
    "best_val_loss = float('inf')\n",
    "best_train_loss = float('inf')"
   ]
  },
  {
   "cell_type": "code",
   "execution_count": 51,
   "metadata": {},
   "outputs": [],
   "source": [
    "optimizer.lr = 0.0001\n",
    "num_steps = 5000\n",
    "batch_size = 1024"
   ]
  },
  {
   "cell_type": "code",
   "execution_count": 52,
   "metadata": {},
   "outputs": [
    {
     "name": "stdout",
     "output_type": "stream",
     "text": [
      "Step 0: Validation Loss 1.0728703737258911\n",
      "Step 0: Train Loss 1.197466254234314 | Best Val Loss 1.0728703737258911\n",
      "Step 100: Train Loss 0.0038646769244223833 | Best Val Loss 1.0728703737258911\n",
      "Step 200: Train Loss 0.002563143614679575 | Best Val Loss 1.0728703737258911\n",
      "Step 300: Train Loss 0.002506375778466463 | Best Val Loss 1.0728703737258911\n",
      "Step 400: Train Loss 0.0018427076283842325 | Best Val Loss 1.0728703737258911\n",
      "Step 500: Train Loss 0.002075179247185588 | Best Val Loss 1.0728703737258911\n",
      "Step 600: Train Loss 0.0022712028585374355 | Best Val Loss 1.0728703737258911\n",
      "Step 700: Train Loss 0.00197591376490891 | Best Val Loss 1.0728703737258911\n",
      "Step 800: Train Loss 0.001769725582562387 | Best Val Loss 1.0728703737258911\n",
      "Step 900: Train Loss 0.0017477127257734537 | Best Val Loss 1.0728703737258911\n",
      "Step 1000: Validation Loss 0.09035798162221909\n",
      "Step 1000: Train Loss 0.0017459513619542122 | Best Val Loss 0.09035798162221909\n",
      "Step 1100: Train Loss 0.0020313109271228313 | Best Val Loss 0.09035798162221909\n",
      "Step 1200: Train Loss 0.002267623320221901 | Best Val Loss 0.09035798162221909\n",
      "Step 1300: Train Loss 0.001401905668899417 | Best Val Loss 0.09035798162221909\n",
      "Step 1400: Train Loss 0.0018462050938978791 | Best Val Loss 0.09035798162221909\n",
      "Step 1500: Train Loss 0.002359208883717656 | Best Val Loss 0.09035798162221909\n",
      "Step 1600: Train Loss 0.0018879168201237917 | Best Val Loss 0.09035798162221909\n",
      "Step 1700: Train Loss 0.0019816826097667217 | Best Val Loss 0.09035798162221909\n",
      "Step 1800: Train Loss 0.0017828610725700855 | Best Val Loss 0.09035798162221909\n",
      "Step 1900: Train Loss 0.0014150917995721102 | Best Val Loss 0.09035798162221909\n",
      "Step 2000: Validation Loss 0.09024884551763535\n",
      "Step 2000: Train Loss 0.0017146666068583727 | Best Val Loss 0.09024884551763535\n",
      "Step 2100: Train Loss 0.0020073282066732645 | Best Val Loss 0.09024884551763535\n",
      "Step 2200: Train Loss 0.0017801451031118631 | Best Val Loss 0.09024884551763535\n",
      "Step 2300: Train Loss 0.0018171833362430334 | Best Val Loss 0.09024884551763535\n",
      "Step 2400: Train Loss 0.001870277221314609 | Best Val Loss 0.09024884551763535\n",
      "Step 2500: Train Loss 0.001804497092962265 | Best Val Loss 0.09024884551763535\n",
      "Step 2600: Train Loss 0.0015986486105248332 | Best Val Loss 0.09024884551763535\n",
      "Step 2700: Train Loss 0.00187206850387156 | Best Val Loss 0.09024884551763535\n",
      "Step 2800: Train Loss 0.0016418955055996776 | Best Val Loss 0.09024884551763535\n",
      "Step 2900: Train Loss 0.0016003710916265845 | Best Val Loss 0.09024884551763535\n",
      "Step 3000: Validation Loss 0.08730822801589966\n",
      "Step 3000: Train Loss 0.0014276534784585238 | Best Val Loss 0.08730822801589966\n",
      "Step 3100: Train Loss 0.0014824799727648497 | Best Val Loss 0.08730822801589966\n",
      "Step 3200: Train Loss 0.001314119203016162 | Best Val Loss 0.08730822801589966\n",
      "Step 3300: Train Loss 0.0017439755611121655 | Best Val Loss 0.08730822801589966\n",
      "Step 3400: Train Loss 0.0016805978957563639 | Best Val Loss 0.08730822801589966\n",
      "Step 3500: Train Loss 0.001357734901830554 | Best Val Loss 0.08730822801589966\n",
      "Step 3600: Train Loss 0.0016265925951302052 | Best Val Loss 0.08730822801589966\n",
      "Step 3700: Train Loss 0.0014112478820607066 | Best Val Loss 0.08730822801589966\n",
      "Step 3800: Train Loss 0.0014013370964676142 | Best Val Loss 0.08730822801589966\n",
      "Step 3900: Train Loss 0.0013230794575065374 | Best Val Loss 0.08730822801589966\n",
      "Step 4000: Validation Loss 0.08273383229970932\n",
      "Step 4000: Train Loss 0.0014063058188185096 | Best Val Loss 0.08273383229970932\n",
      "Step 4100: Train Loss 0.001396286766976118 | Best Val Loss 0.08273383229970932\n",
      "Step 4200: Train Loss 0.0012718492653220892 | Best Val Loss 0.08273383229970932\n",
      "Step 4300: Train Loss 0.001587510691024363 | Best Val Loss 0.08273383229970932\n",
      "Step 4400: Train Loss 0.0013576685450971127 | Best Val Loss 0.08273383229970932\n",
      "Step 4500: Train Loss 0.0014950331533327699 | Best Val Loss 0.08273383229970932\n",
      "Step 4600: Train Loss 0.0016942922957241535 | Best Val Loss 0.08273383229970932\n",
      "Step 4700: Train Loss 0.0015486575430259109 | Best Val Loss 0.08273383229970932\n",
      "Step 4800: Train Loss 0.001671891426667571 | Best Val Loss 0.08273383229970932\n",
      "Step 4900: Train Loss 0.0013768626376986504 | Best Val Loss 0.08273383229970932\n"
     ]
    }
   ],
   "source": [
    "\n",
    "for i in range(num_steps):\n",
    "    optimizer.zero_grad()\n",
    "    Xb, Yb = get_batch(Xtr, Ytr, batch_size)\n",
    "\n",
    "    Xb = Xb.to('cuda')\n",
    "    Yb = Yb.to('cuda')\n",
    "\n",
    "    loss = criterion(model(Xb), Yb)\n",
    "\n",
    "    if i % 1000 == 0:\n",
    "        val_loss = criterion(model(Xval.cuda()), Yval.cuda())\n",
    "        if val_loss < best_val_loss:\n",
    "            best_val_loss = val_loss\n",
    "            torch.save(model.state_dict(), 'best_model_val.pth')\n",
    "\n",
    "        print(f\"Step {i}: Validation Loss {val_loss.item()}\")\n",
    "\n",
    "    if i % 100 == 0:\n",
    "        print(f'Step {i}: Train Loss {loss.item()} | Best Val Loss {best_val_loss.item()}')\n",
    "        if loss < best_train_loss:\n",
    "            best_train_loss = loss\n",
    "            torch.save(model.state_dict(), 'best_model_train.pth')\n",
    "\n",
    "    loss.backward()\n",
    "    optimizer.step()\n"
   ]
  },
  {
   "cell_type": "code",
   "execution_count": 53,
   "metadata": {},
   "outputs": [
    {
     "data": {
      "text/plain": [
       "LTVDynamicsModel(\n",
       "  (time_varying_F): Sequential(\n",
       "    (0): Linear(in_features=3, out_features=128, bias=True)\n",
       "    (1): ReLU()\n",
       "    (2): Linear(in_features=128, out_features=128, bias=True)\n",
       "    (3): Linear(in_features=128, out_features=128, bias=True)\n",
       "    (4): Linear(in_features=128, out_features=128, bias=True)\n",
       "    (5): Linear(in_features=128, out_features=3, bias=True)\n",
       "  )\n",
       ")"
      ]
     },
     "execution_count": 53,
     "metadata": {},
     "output_type": "execute_result"
    }
   ],
   "source": [
    "model.load_state_dict(torch.load('best_model_train.pth', weights_only=True))\n",
    "model.cpu()\n",
    "model.eval()"
   ]
  },
  {
   "cell_type": "code",
   "execution_count": 54,
   "metadata": {},
   "outputs": [],
   "source": [
    "test_df = get_data('data/00001.csv')[:100]\n",
    "test_data = test_df.values"
   ]
  },
  {
   "cell_type": "code",
   "execution_count": 58,
   "metadata": {},
   "outputs": [],
   "source": [
    "errors= []\n",
    "\n",
    "alpha = 0.5\n",
    "x0 = torch.from_numpy(test_data[0, None]).float()\n",
    "x0 = (x0 - mean) / std\n",
    "x1 = model(x0).detach()\n",
    "x1 = x1 * std[3] + mean[3]\n",
    "rollout = [x0[0, 3] * std[3] + mean[3], x1[0]] # lateral accelerations [x0[0,3], x1[0]]\n",
    "for t in range(1, test_data.shape[0]-1):\n",
    "    xt = torch.from_numpy(test_data[t, None]).float()\n",
    "    xt[:, 3] = (1-alpha) * rollout[-1] + alpha * rollout[-2]\n",
    "    xt = (xt - mean) / std\n",
    "    xt1 = model(xt).detach()\n",
    "    xt1 = xt1 * std[3] + mean[3]\n",
    "\n",
    "    rollout.append(xt1[0])"
   ]
  },
  {
   "cell_type": "code",
   "execution_count": 59,
   "metadata": {},
   "outputs": [
    {
     "data": {
      "image/png": "[encoded data removed]",
      "text/plain": [
       "<Figure size 1000x500 with 1 Axes>"
      ]
     },
     "metadata": {},
     "output_type": "display_data"
    }
   ],
   "source": [
    "def plot_rollout(rollout, test_data):\n",
    "  fig, ax = plt.subplots(figsize=(10, 5))\n",
    "  ax.plot(test_data[:, 3], label=\"GT Lat Acc\", alpha=0.5)\n",
    "  ax.plot([latacc for latacc in rollout], label=\"Model\", alpha=0.5)\n",
    "  ax.legend()\n",
    "  ax.set_xlabel(\"Step\")\n",
    "  ax.set_ylabel(\"Lateral Acceleration\")\n",
    "  ax.set_title(\"Rollout\")\n",
    "  plt.show()\n",
    "\n",
    "plot_rollout(rollout, test_data)\n"
   ]
  }
 ],
 "metadata": {
  "kernelspec": {
   "display_name": "base",
   "language": "python",
   "name": "python3"
  },
  "language_info": {
   "codemirror_mode": {
    "name": "ipython",
    "version": 3
   },
   "file_extension": ".py",
   "mimetype": "text/x-python",
   "name": "python",
   "nbconvert_exporter": "python",
   "pygments_lexer": "ipython3",
   "version": "3.10.14"
  }
 },
 "nbformat": 4,
 "nbformat_minor": 2
}
